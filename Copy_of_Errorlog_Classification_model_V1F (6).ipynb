{
  "nbformat": 4,
  "nbformat_minor": 0,
  "metadata": {
    "colab": {
      "name": "Copy of Ticket_Classification_model_V1F.ipynb",
      "provenance": []
    },
    "kernelspec": {
      "name": "python3",
      "display_name": "Python 3"
    },
    "language_info": {
      "name": "python"
    }
  },
  "cells": [
    {
      "cell_type": "code",
      "execution_count": null,
      "metadata": {
        "colab": {
          "base_uri": "https://localhost:8080/"
        },
        "id": "A4WKs52gtiC2",
        "outputId": "f57b69dc-2e6b-465f-e995-e27ecb43ae38"
      },
      "outputs": [
        {
          "output_type": "stream",
          "name": "stdout",
          "text": [
            "Libraries Imported.\n"
          ]
        }
      ],
      "source": [
        "import numpy as np\n",
        "import pandas as pd\n",
        "\n",
        "from sklearn import preprocessing\n",
        "from sklearn.model_selection import train_test_split\n",
        "\n",
        "from sklearn.metrics import accuracy_score, confusion_matrix\n",
        "from sklearn.metrics import jaccard_score, f1_score, log_loss, precision_score, accuracy_score, recall_score\n",
        "\n",
        "import seaborn as sns\n",
        "\n",
        "import matplotlib.pyplot as plt\n",
        "%matplotlib inline\n",
        "\n",
        "print(\"Libraries Imported.\")"
      ]
    },
    {
      "cell_type": "code",
      "source": [
        "#load the csv file into a new pandas dataframe\n",
        "ticket_df = pd.read_csv('Train Data1.csv', header = 0)\n",
        "print(ticket_df.shape)\n",
        "ticket_df.head()"
      ],
      "metadata": {
        "colab": {
          "base_uri": "https://localhost:8080/",
          "height": 224
        },
        "id": "8hS58CWduYUJ",
        "outputId": "e296c8b4-7eee-4b13-823f-2f9d62cd16a9"
      },
      "execution_count": null,
      "outputs": [
        {
          "output_type": "stream",
          "name": "stdout",
          "text": [
            "(1470, 2)\n"
          ]
        },
        {
          "output_type": "execute_result",
          "data": {
            "text/html": [
              "\n",
              "  <div id=\"df-7d5384fa-f8c3-4de8-8ddf-7d4fa15eb512\">\n",
              "    <div class=\"colab-df-container\">\n",
              "      <div>\n",
              "<style scoped>\n",
              "    .dataframe tbody tr th:only-of-type {\n",
              "        vertical-align: middle;\n",
              "    }\n",
              "\n",
              "    .dataframe tbody tr th {\n",
              "        vertical-align: top;\n",
              "    }\n",
              "\n",
              "    .dataframe thead th {\n",
              "        text-align: right;\n",
              "    }\n",
              "</style>\n",
              "<table border=\"1\" class=\"dataframe\">\n",
              "  <thead>\n",
              "    <tr style=\"text-align: right;\">\n",
              "      <th></th>\n",
              "      <th>Issues</th>\n",
              "      <th>Categories</th>\n",
              "    </tr>\n",
              "  </thead>\n",
              "  <tbody>\n",
              "    <tr>\n",
              "      <th>0</th>\n",
              "      <td>Unable to process Row No \"1\". Received Mfr. Se...</td>\n",
              "      <td>Validation Error</td>\n",
              "    </tr>\n",
              "    <tr>\n",
              "      <th>1</th>\n",
              "      <td>User does not have the permission to Perform t...</td>\n",
              "      <td>Validation Error</td>\n",
              "    </tr>\n",
              "    <tr>\n",
              "      <th>2</th>\n",
              "      <td>Contract # \"SCNT48034\" Revision # \"0\" cannot b...</td>\n",
              "      <td>Validation Error</td>\n",
              "    </tr>\n",
              "    <tr>\n",
              "      <th>3</th>\n",
              "      <td>Unable to process Material Request. Serial # \"...</td>\n",
              "      <td>Validation Error</td>\n",
              "    </tr>\n",
              "    <tr>\n",
              "      <th>4</th>\n",
              "      <td>The State Code entered already exists for the ...</td>\n",
              "      <td>Validation Error</td>\n",
              "    </tr>\n",
              "  </tbody>\n",
              "</table>\n",
              "</div>\n",
              "      <button class=\"colab-df-convert\" onclick=\"convertToInteractive('df-7d5384fa-f8c3-4de8-8ddf-7d4fa15eb512')\"\n",
              "              title=\"Convert this dataframe to an interactive table.\"\n",
              "              style=\"display:none;\">\n",
              "        \n",
              "  <svg xmlns=\"http://www.w3.org/2000/svg\" height=\"24px\"viewBox=\"0 0 24 24\"\n",
              "       width=\"24px\">\n",
              "    <path d=\"M0 0h24v24H0V0z\" fill=\"none\"/>\n",
              "    <path d=\"M18.56 5.44l.94 2.06.94-2.06 2.06-.94-2.06-.94-.94-2.06-.94 2.06-2.06.94zm-11 1L8.5 8.5l.94-2.06 2.06-.94-2.06-.94L8.5 2.5l-.94 2.06-2.06.94zm10 10l.94 2.06.94-2.06 2.06-.94-2.06-.94-.94-2.06-.94 2.06-2.06.94z\"/><path d=\"M17.41 7.96l-1.37-1.37c-.4-.4-.92-.59-1.43-.59-.52 0-1.04.2-1.43.59L10.3 9.45l-7.72 7.72c-.78.78-.78 2.05 0 2.83L4 21.41c.39.39.9.59 1.41.59.51 0 1.02-.2 1.41-.59l7.78-7.78 2.81-2.81c.8-.78.8-2.07 0-2.86zM5.41 20L4 18.59l7.72-7.72 1.47 1.35L5.41 20z\"/>\n",
              "  </svg>\n",
              "      </button>\n",
              "      \n",
              "  <style>\n",
              "    .colab-df-container {\n",
              "      display:flex;\n",
              "      flex-wrap:wrap;\n",
              "      gap: 12px;\n",
              "    }\n",
              "\n",
              "    .colab-df-convert {\n",
              "      background-color: #E8F0FE;\n",
              "      border: none;\n",
              "      border-radius: 50%;\n",
              "      cursor: pointer;\n",
              "      display: none;\n",
              "      fill: #1967D2;\n",
              "      height: 32px;\n",
              "      padding: 0 0 0 0;\n",
              "      width: 32px;\n",
              "    }\n",
              "\n",
              "    .colab-df-convert:hover {\n",
              "      background-color: #E2EBFA;\n",
              "      box-shadow: 0px 1px 2px rgba(60, 64, 67, 0.3), 0px 1px 3px 1px rgba(60, 64, 67, 0.15);\n",
              "      fill: #174EA6;\n",
              "    }\n",
              "\n",
              "    [theme=dark] .colab-df-convert {\n",
              "      background-color: #3B4455;\n",
              "      fill: #D2E3FC;\n",
              "    }\n",
              "\n",
              "    [theme=dark] .colab-df-convert:hover {\n",
              "      background-color: #434B5C;\n",
              "      box-shadow: 0px 1px 3px 1px rgba(0, 0, 0, 0.15);\n",
              "      filter: drop-shadow(0px 1px 2px rgba(0, 0, 0, 0.3));\n",
              "      fill: #FFFFFF;\n",
              "    }\n",
              "  </style>\n",
              "\n",
              "      <script>\n",
              "        const buttonEl =\n",
              "          document.querySelector('#df-7d5384fa-f8c3-4de8-8ddf-7d4fa15eb512 button.colab-df-convert');\n",
              "        buttonEl.style.display =\n",
              "          google.colab.kernel.accessAllowed ? 'block' : 'none';\n",
              "\n",
              "        async function convertToInteractive(key) {\n",
              "          const element = document.querySelector('#df-7d5384fa-f8c3-4de8-8ddf-7d4fa15eb512');\n",
              "          const dataTable =\n",
              "            await google.colab.kernel.invokeFunction('convertToInteractive',\n",
              "                                                     [key], {});\n",
              "          if (!dataTable) return;\n",
              "\n",
              "          const docLinkHtml = 'Like what you see? Visit the ' +\n",
              "            '<a target=\"_blank\" href=https://colab.research.google.com/notebooks/data_table.ipynb>data table notebook</a>'\n",
              "            + ' to learn more about interactive tables.';\n",
              "          element.innerHTML = '';\n",
              "          dataTable['output_type'] = 'display_data';\n",
              "          await google.colab.output.renderOutput(dataTable, element);\n",
              "          const docLink = document.createElement('div');\n",
              "          docLink.innerHTML = docLinkHtml;\n",
              "          element.appendChild(docLink);\n",
              "        }\n",
              "      </script>\n",
              "    </div>\n",
              "  </div>\n",
              "  "
            ],
            "text/plain": [
              "                                              Issues        Categories\n",
              "0  Unable to process Row No \"1\". Received Mfr. Se...  Validation Error\n",
              "1  User does not have the permission to Perform t...  Validation Error\n",
              "2  Contract # \"SCNT48034\" Revision # \"0\" cannot b...  Validation Error\n",
              "3  Unable to process Material Request. Serial # \"...  Validation Error\n",
              "4  The State Code entered already exists for the ...  Validation Error"
            ]
          },
          "metadata": {},
          "execution_count": 3
        }
      ]
    },
    {
      "cell_type": "code",
      "source": [
        "ticket_df['Categories'].value_counts()"
      ],
      "metadata": {
        "colab": {
          "base_uri": "https://localhost:8080/"
        },
        "id": "ziT04Lo0ySEL",
        "outputId": "52676fbd-cd7e-4708-b7a6-816128c1ac0a"
      },
      "execution_count": null,
      "outputs": [
        {
          "output_type": "execute_result",
          "data": {
            "text/plain": [
              "Validation Error    1309\n",
              "Database Error        55\n",
              "Scripting Error       51\n",
              "Others                23\n",
              "Product error         13\n",
              "Deployment Error      10\n",
              "Server Error           7\n",
              "Framework error        2\n",
              "Name: Categories, dtype: int64"
            ]
          },
          "metadata": {},
          "execution_count": 4
        }
      ]
    },
    {
      "cell_type": "code",
      "source": [
        "classifier = 'Categories'\n",
        "classifier_labels = list(ticket_df[classifier].value_counts().index)\n",
        "classifier_labels"
      ],
      "metadata": {
        "colab": {
          "base_uri": "https://localhost:8080/"
        },
        "id": "_rkV0-0bA_Ro",
        "outputId": "81394271-9f7e-486b-f560-0de287c214b6"
      },
      "execution_count": null,
      "outputs": [
        {
          "output_type": "execute_result",
          "data": {
            "text/plain": [
              "['Validation Error',\n",
              " 'Database Error',\n",
              " 'Scripting Error',\n",
              " 'Others',\n",
              " 'Product error',\n",
              " 'Deployment Error',\n",
              " 'Server Error',\n",
              " 'Framework error']"
            ]
          },
          "metadata": {},
          "execution_count": 5
        }
      ]
    },
    {
      "cell_type": "code",
      "source": [
        "from nltk.corpus import stopwords\n",
        "from sklearn.feature_extraction.text import ENGLISH_STOP_WORDS\n",
        "from spacy.lang.en import English\n",
        "import string\n",
        "from collections import Counter\n",
        "import spacy\n",
        "import re"
      ],
      "metadata": {
        "id": "hin2x8o9B08Z"
      },
      "execution_count": null,
      "outputs": []
    },
    {
      "cell_type": "code",
      "source": [
        "parser = English()\n",
        "nlp = spacy.load('en_core_web_sm')\n",
        "punctuations = string.punctuation\n",
        "\n",
        "import nltk\n",
        "nltk.download('stopwords')\n",
        "STOPLIST = set(stopwords.words('english') + list(ENGLISH_STOP_WORDS) + [\"hi\"])\n",
        "SYMBOLS = \" \".join(string.punctuation).split(\" \") + [\"-\", \"…\", \"\"\", \"\"\"]\n",
        "\n",
        "# Function to cleanup the text in increments\n",
        "def cleanup_text(docs, logging=False):\n",
        "  texts = []\n",
        "  counter = 1\n",
        "  for doc in docs:\n",
        "    if counter % 1000 == 0 and logging:\n",
        "      print(\"Processed %d out of %d documents.\" % (counter, len(docs)))\n",
        "    \n",
        "    counter += 1\n",
        "\n",
        "    doc = re.sub(r'\\d+', '', doc)\n",
        "    doc = nlp(doc, disable=['parser', 'ner'])\n",
        "    tokens = [tok.lemma_.lower().strip() for tok in doc if tok.lemma_ != '-PRON-']\n",
        "    tokens = [tok for tok in tokens if tok not in STOPLIST and tok not in SYMBOLS]\n",
        "    tokens = ' '.join(tokens)\n",
        "    texts.append(tokens)\n",
        "      \n",
        "  print(\"Processed %d out of %d documents.\" % (len(docs), len(docs)))\n",
        "  return pd.Series(texts)\n",
        "\n",
        "# Function to find common words for each defined category\n",
        "def find_common_words_by_category(categories, N):\n",
        "  for category in categories:\n",
        "    category_text = [text for text in ticket_df[ticket_df['ticket_type'] == category]['Issues']]\n",
        "    cleanup_category_text = cleanup_text(category_text, True)\n",
        "    cleanup_category_text = ' '.join(cleanup_category_text).split()\n",
        "    category_counter = Counter(cleanup_category_text)\n",
        "\n",
        "    common_words_by_category = [word[0] for word in category_counter.most_common(N)]\n",
        "    word_count_by_category = [word[1] for word in category_counter.most_common(N)]\n",
        "    \n",
        "    word_statement = f\"{category} has {word_count_by_category} words : {common_words_by_category}\"\n",
        "    print(word_statement)\n",
        "    print()\n",
        "    \n",
        "# find_common_words_by_category(classifier_labels, 10)"
      ],
      "metadata": {
        "colab": {
          "base_uri": "https://localhost:8080/"
        },
        "id": "ia_SLq0zB4PX",
        "outputId": "e2be9344-d37c-4f10-fab6-9bd224fc89c7"
      },
      "execution_count": null,
      "outputs": [
        {
          "output_type": "stream",
          "name": "stdout",
          "text": [
            "[nltk_data] Downloading package stopwords to /root/nltk_data...\n",
            "[nltk_data]   Unzipping corpora/stopwords.zip.\n"
          ]
        }
      ]
    },
    {
      "cell_type": "code",
      "source": [
        "\n",
        "ticket_df['ticket_type_id'] = ticket_df['Categories'].factorize()[0]"
      ],
      "metadata": {
        "id": "n0Oj8Pv7IcDH"
      },
      "execution_count": null,
      "outputs": []
    },
    {
      "cell_type": "code",
      "source": [
        "ticket_type_id_df = ticket_df[['Categories', 'ticket_type_id']].drop_duplicates().sort_values('ticket_type_id')\n",
        "ticket_type_to_id = dict(ticket_type_id_df.values)\n",
        "id_to_ticket_type = dict(ticket_type_id_df[['ticket_type_id', 'Categories']].values)\n",
        "ticket_df.head()"
      ],
      "metadata": {
        "colab": {
          "base_uri": "https://localhost:8080/",
          "height": 206
        },
        "id": "CIhvcdIRTQYc",
        "outputId": "ce01b30c-b3e9-41b1-d332-86207f4bd54e"
      },
      "execution_count": null,
      "outputs": [
        {
          "output_type": "execute_result",
          "data": {
            "text/html": [
              "\n",
              "  <div id=\"df-f631bbc3-4aa0-4184-8783-cc1f03f034f5\">\n",
              "    <div class=\"colab-df-container\">\n",
              "      <div>\n",
              "<style scoped>\n",
              "    .dataframe tbody tr th:only-of-type {\n",
              "        vertical-align: middle;\n",
              "    }\n",
              "\n",
              "    .dataframe tbody tr th {\n",
              "        vertical-align: top;\n",
              "    }\n",
              "\n",
              "    .dataframe thead th {\n",
              "        text-align: right;\n",
              "    }\n",
              "</style>\n",
              "<table border=\"1\" class=\"dataframe\">\n",
              "  <thead>\n",
              "    <tr style=\"text-align: right;\">\n",
              "      <th></th>\n",
              "      <th>Issues</th>\n",
              "      <th>Categories</th>\n",
              "      <th>ticket_type_id</th>\n",
              "    </tr>\n",
              "  </thead>\n",
              "  <tbody>\n",
              "    <tr>\n",
              "      <th>0</th>\n",
              "      <td>Unable to process Row No \"1\". Received Mfr. Se...</td>\n",
              "      <td>Validation Error</td>\n",
              "      <td>0</td>\n",
              "    </tr>\n",
              "    <tr>\n",
              "      <th>1</th>\n",
              "      <td>User does not have the permission to Perform t...</td>\n",
              "      <td>Validation Error</td>\n",
              "      <td>0</td>\n",
              "    </tr>\n",
              "    <tr>\n",
              "      <th>2</th>\n",
              "      <td>Contract # \"SCNT48034\" Revision # \"0\" cannot b...</td>\n",
              "      <td>Validation Error</td>\n",
              "      <td>0</td>\n",
              "    </tr>\n",
              "    <tr>\n",
              "      <th>3</th>\n",
              "      <td>Unable to process Material Request. Serial # \"...</td>\n",
              "      <td>Validation Error</td>\n",
              "      <td>0</td>\n",
              "    </tr>\n",
              "    <tr>\n",
              "      <th>4</th>\n",
              "      <td>The State Code entered already exists for the ...</td>\n",
              "      <td>Validation Error</td>\n",
              "      <td>0</td>\n",
              "    </tr>\n",
              "  </tbody>\n",
              "</table>\n",
              "</div>\n",
              "      <button class=\"colab-df-convert\" onclick=\"convertToInteractive('df-f631bbc3-4aa0-4184-8783-cc1f03f034f5')\"\n",
              "              title=\"Convert this dataframe to an interactive table.\"\n",
              "              style=\"display:none;\">\n",
              "        \n",
              "  <svg xmlns=\"http://www.w3.org/2000/svg\" height=\"24px\"viewBox=\"0 0 24 24\"\n",
              "       width=\"24px\">\n",
              "    <path d=\"M0 0h24v24H0V0z\" fill=\"none\"/>\n",
              "    <path d=\"M18.56 5.44l.94 2.06.94-2.06 2.06-.94-2.06-.94-.94-2.06-.94 2.06-2.06.94zm-11 1L8.5 8.5l.94-2.06 2.06-.94-2.06-.94L8.5 2.5l-.94 2.06-2.06.94zm10 10l.94 2.06.94-2.06 2.06-.94-2.06-.94-.94-2.06-.94 2.06-2.06.94z\"/><path d=\"M17.41 7.96l-1.37-1.37c-.4-.4-.92-.59-1.43-.59-.52 0-1.04.2-1.43.59L10.3 9.45l-7.72 7.72c-.78.78-.78 2.05 0 2.83L4 21.41c.39.39.9.59 1.41.59.51 0 1.02-.2 1.41-.59l7.78-7.78 2.81-2.81c.8-.78.8-2.07 0-2.86zM5.41 20L4 18.59l7.72-7.72 1.47 1.35L5.41 20z\"/>\n",
              "  </svg>\n",
              "      </button>\n",
              "      \n",
              "  <style>\n",
              "    .colab-df-container {\n",
              "      display:flex;\n",
              "      flex-wrap:wrap;\n",
              "      gap: 12px;\n",
              "    }\n",
              "\n",
              "    .colab-df-convert {\n",
              "      background-color: #E8F0FE;\n",
              "      border: none;\n",
              "      border-radius: 50%;\n",
              "      cursor: pointer;\n",
              "      display: none;\n",
              "      fill: #1967D2;\n",
              "      height: 32px;\n",
              "      padding: 0 0 0 0;\n",
              "      width: 32px;\n",
              "    }\n",
              "\n",
              "    .colab-df-convert:hover {\n",
              "      background-color: #E2EBFA;\n",
              "      box-shadow: 0px 1px 2px rgba(60, 64, 67, 0.3), 0px 1px 3px 1px rgba(60, 64, 67, 0.15);\n",
              "      fill: #174EA6;\n",
              "    }\n",
              "\n",
              "    [theme=dark] .colab-df-convert {\n",
              "      background-color: #3B4455;\n",
              "      fill: #D2E3FC;\n",
              "    }\n",
              "\n",
              "    [theme=dark] .colab-df-convert:hover {\n",
              "      background-color: #434B5C;\n",
              "      box-shadow: 0px 1px 3px 1px rgba(0, 0, 0, 0.15);\n",
              "      filter: drop-shadow(0px 1px 2px rgba(0, 0, 0, 0.3));\n",
              "      fill: #FFFFFF;\n",
              "    }\n",
              "  </style>\n",
              "\n",
              "      <script>\n",
              "        const buttonEl =\n",
              "          document.querySelector('#df-f631bbc3-4aa0-4184-8783-cc1f03f034f5 button.colab-df-convert');\n",
              "        buttonEl.style.display =\n",
              "          google.colab.kernel.accessAllowed ? 'block' : 'none';\n",
              "\n",
              "        async function convertToInteractive(key) {\n",
              "          const element = document.querySelector('#df-f631bbc3-4aa0-4184-8783-cc1f03f034f5');\n",
              "          const dataTable =\n",
              "            await google.colab.kernel.invokeFunction('convertToInteractive',\n",
              "                                                     [key], {});\n",
              "          if (!dataTable) return;\n",
              "\n",
              "          const docLinkHtml = 'Like what you see? Visit the ' +\n",
              "            '<a target=\"_blank\" href=https://colab.research.google.com/notebooks/data_table.ipynb>data table notebook</a>'\n",
              "            + ' to learn more about interactive tables.';\n",
              "          element.innerHTML = '';\n",
              "          dataTable['output_type'] = 'display_data';\n",
              "          await google.colab.output.renderOutput(dataTable, element);\n",
              "          const docLink = document.createElement('div');\n",
              "          docLink.innerHTML = docLinkHtml;\n",
              "          element.appendChild(docLink);\n",
              "        }\n",
              "      </script>\n",
              "    </div>\n",
              "  </div>\n",
              "  "
            ],
            "text/plain": [
              "                                              Issues        Categories  \\\n",
              "0  Unable to process Row No \"1\". Received Mfr. Se...  Validation Error   \n",
              "1  User does not have the permission to Perform t...  Validation Error   \n",
              "2  Contract # \"SCNT48034\" Revision # \"0\" cannot b...  Validation Error   \n",
              "3  Unable to process Material Request. Serial # \"...  Validation Error   \n",
              "4  The State Code entered already exists for the ...  Validation Error   \n",
              "\n",
              "   ticket_type_id  \n",
              "0               0  \n",
              "1               0  \n",
              "2               0  \n",
              "3               0  \n",
              "4               0  "
            ]
          },
          "metadata": {},
          "execution_count": 9
        }
      ]
    },
    {
      "cell_type": "code",
      "source": [
        "print(ticket_type_to_id)"
      ],
      "metadata": {
        "colab": {
          "base_uri": "https://localhost:8080/"
        },
        "id": "FCpY36M0ZPUa",
        "outputId": "b64c16bc-332f-4586-db84-0770e5e45c45"
      },
      "execution_count": null,
      "outputs": [
        {
          "output_type": "stream",
          "name": "stdout",
          "text": [
            "{'Validation Error': 0, 'Others': 1, 'Database Error': 2, 'Product error': 3, 'Scripting Error': 4, 'Framework error': 5, 'Deployment Error': 6, 'Server Error': 7}\n"
          ]
        }
      ]
    },
    {
      "cell_type": "code",
      "source": [
        "X = ticket_df['Issues'].values\n",
        "y = ticket_df['Categories'].values"
      ],
      "metadata": {
        "id": "DKnZwun-I6Zt"
      },
      "execution_count": null,
      "outputs": []
    },
    {
      "cell_type": "code",
      "source": [
        "print(y)"
      ],
      "metadata": {
        "colab": {
          "base_uri": "https://localhost:8080/"
        },
        "id": "9e_aPu6bObHs",
        "outputId": "aa65e6b9-c533-4af6-a333-1f0942f701ef"
      },
      "execution_count": null,
      "outputs": [
        {
          "output_type": "stream",
          "name": "stdout",
          "text": [
            "['Validation Error' 'Validation Error' 'Validation Error' ...\n",
            " 'Scripting Error' 'Validation Error' 'Product error']\n"
          ]
        }
      ]
    },
    {
      "cell_type": "code",
      "source": [
        "from sklearn.feature_extraction.text import TfidfVectorizer\n",
        "tfidf = TfidfVectorizer(sublinear_tf=True, min_df=5, norm='l2', ngram_range=(1, 2), stop_words='english')\n",
        "features = tfidf.fit_transform(X)\n",
        "labels = ticket_df['ticket_type_id']\n",
        "features.shape\n"
      ],
      "metadata": {
        "colab": {
          "base_uri": "https://localhost:8080/"
        },
        "id": "skrhayW_OYqn",
        "outputId": "c09d761d-f137-4624-9897-b66affaead1b"
      },
      "execution_count": null,
      "outputs": [
        {
          "output_type": "execute_result",
          "data": {
            "text/plain": [
              "(1470, 776)"
            ]
          },
          "metadata": {},
          "execution_count": 13
        }
      ]
    },
    {
      "cell_type": "code",
      "source": [
        "parser = English()\n",
        "nlp = spacy.load('en_core_web_sm')\n",
        "punctuations = string.punctuation\n",
        "\n",
        "STOPLIST = set(stopwords.words('english') + list(ENGLISH_STOP_WORDS) + [\"hi\"])\n",
        "SYMBOLS = \" \".join(string.punctuation).split(\" \") + [\"-\", \"…\", \"\"\", \"\"\"]\n",
        "\n",
        "counter = 1 \n",
        "total = len(X)\n",
        "for idx, item in enumerate(X):\n",
        "    if counter % 2500 == 0:\n",
        "      print(\"Processed %d out of %d documents.\" % (counter, total))\n",
        "\n",
        "    counter += 1 \n",
        "    item = re.sub(r'\\d+', '', item)\n",
        "    item = nlp(item, disable=['parser', 'ner'])\n",
        "    tokens = [tok.lemma_.lower().strip() for tok in item if tok.lemma_ != '-PRON-']\n",
        "    tokens = [tok for tok in tokens if tok not in STOPLIST and tok not in SYMBOLS]\n",
        "    tokens = ' '.join(tokens)\n",
        "    X[idx] = tokens\n",
        "\n",
        "print(\"Processed %d out of %d documents.\" % (total, total))\n",
        "\n",
        "X[0:5]"
      ],
      "metadata": {
        "colab": {
          "base_uri": "https://localhost:8080/"
        },
        "id": "fF5ylbY4PHpH",
        "outputId": "afe64f19-1bef-416a-f92b-76be33fac197"
      },
      "execution_count": null,
      "outputs": [
        {
          "output_type": "stream",
          "name": "stdout",
          "text": [
            "Processed 1470 out of 1470 documents.\n"
          ]
        },
        {
          "output_type": "execute_result",
          "data": {
            "text/plain": [
              "array(['unable process row receive mfr serial  ta srl  available stock enter unique serial',\n",
              "       'user permission perform document invoice itm-- modify user refresh',\n",
              "       'contract scnt revision confirm information provide complete visit contract upload summary page know',\n",
              "       'unable process material request serial mvh available warehouse ta- warning null value eliminate aggregate set operation',\n",
              "       'state code enter exist country enter unique state code'],\n",
              "      dtype=object)"
            ]
          },
          "metadata": {},
          "execution_count": 14
        }
      ]
    },
    {
      "cell_type": "code",
      "source": [
        "print(X)"
      ],
      "metadata": {
        "colab": {
          "base_uri": "https://localhost:8080/"
        },
        "id": "iT83nUGJROqH",
        "outputId": "0845c9c9-5fed-421c-abd4-ccdc97158792"
      },
      "execution_count": null,
      "outputs": [
        {
          "output_type": "stream",
          "name": "stdout",
          "text": [
            "['unable process row receive mfr serial  ta srl  available stock enter unique serial'\n",
            " 'user permission perform document invoice itm-- modify user refresh'\n",
            " 'contract scnt revision confirm information provide complete visit contract upload summary page know'\n",
            " ... '.\\\\files\\\\controlsheets\\\\r&b db-_contorl.xlsx excel workbook exist'\n",
            " 'cost center map account code context component adepp ou ramcoou bu avbu fb aveos docno dep-- trantype fa_adpr actcode- costcenter-'\n",
            " 'finance postings error']\n"
          ]
        }
      ]
    },
    {
      "cell_type": "code",
      "source": [
        "from sklearn.feature_extraction.text import TfidfVectorizer\n",
        "tfidf = TfidfVectorizer(sublinear_tf=True, min_df=5, norm='l2', ngram_range=(1, 2), stop_words='english')\n",
        "features = tfidf.fit_transform(X)\n",
        "labels = ticket_df['ticket_type_id']\n",
        "features.shape"
      ],
      "metadata": {
        "colab": {
          "base_uri": "https://localhost:8080/"
        },
        "id": "5HMtI28PR_kN",
        "outputId": "61e5bdb7-9954-4f54-bdbb-2916ca0ebee2"
      },
      "execution_count": null,
      "outputs": [
        {
          "output_type": "execute_result",
          "data": {
            "text/plain": [
              "(1470, 758)"
            ]
          },
          "metadata": {},
          "execution_count": 16
        }
      ]
    },
    {
      "cell_type": "code",
      "source": [
        "print(ticket_type_to_id.items());\n",
        "print(sorted([('Validation Error', 0), ('Others', 1), ('Database Error', 2), ('Product error', 3), ('Scripting error', 4), ('Framework error', 5), ('Deployment Error', 6), ('Server Error', 7)]));"
      ],
      "metadata": {
        "colab": {
          "base_uri": "https://localhost:8080/"
        },
        "id": "JzqG1TjUbSva",
        "outputId": "3d150d32-cfa8-4d41-bb1a-f61b09802788"
      },
      "execution_count": null,
      "outputs": [
        {
          "output_type": "stream",
          "name": "stdout",
          "text": [
            "dict_items([('Validation Error', 0), ('Others', 1), ('Database Error', 2), ('Product error', 3), ('Scripting Error', 4), ('Framework error', 5), ('Deployment Error', 6), ('Server Error', 7)])\n",
            "[('Database Error', 2), ('Deployment Error', 6), ('Framework error', 5), ('Others', 1), ('Product error', 3), ('Scripting error', 4), ('Server Error', 7), ('Validation Error', 0)]\n"
          ]
        }
      ]
    },
    {
      "cell_type": "code",
      "source": [
        "tfidf = TfidfVectorizer(sublinear_tf=True, min_df=5, norm='l2', ngram_range=(1, 2), stop_words='english')\n",
        "X_counts = tfidf.fit_transform(X)\n",
        "# tfidf_transformer = TfidfTransformer()\n",
        "# X_tfidf = tfidf_transformer.fit_transform(X_counts)\n",
        "X_counts.shape "
      ],
      "metadata": {
        "colab": {
          "base_uri": "https://localhost:8080/"
        },
        "id": "8UN-knVndpnv",
        "outputId": "47973d35-4173-4863-94a0-7e6258b17b12"
      },
      "execution_count": null,
      "outputs": [
        {
          "output_type": "execute_result",
          "data": {
            "text/plain": [
              "(1470, 758)"
            ]
          },
          "metadata": {},
          "execution_count": 18
        }
      ]
    },
    {
      "cell_type": "code",
      "source": [
        "X_train, X_test, y_train, y_test = train_test_split(X_counts, y, test_size = 0.3, shuffle=True, stratify=y, random_state = 42)\n",
        "print ('Train set:', X_train.shape,  y_train.shape)\n",
        "print ('Test set:', X_test.shape,  y_test.shape)"
      ],
      "metadata": {
        "colab": {
          "base_uri": "https://localhost:8080/"
        },
        "id": "lrGs31Z3gDb3",
        "outputId": "78e7707f-263d-4ed2-8c93-b9ac1f6248ac"
      },
      "execution_count": null,
      "outputs": [
        {
          "output_type": "stream",
          "name": "stdout",
          "text": [
            "Train set: (1029, 758) (1029,)\n",
            "Test set: (441, 758) (441,)\n"
          ]
        }
      ]
    },
    {
      "cell_type": "markdown",
      "source": [
        "Multinomial Classification Algorithm with Supervised Machine Learning and NLP¶\n"
      ],
      "metadata": {
        "id": "X_ialIlyjZiT"
      }
    },
    {
      "cell_type": "code",
      "source": [
        "\n",
        "from sklearn.svm import LinearSVC\n",
        "\n",
        "model_dict = {\n",
        "              \n",
        "              'Linear Support Vector Classifier': LinearSVC()\n",
        "             }\n",
        "\n",
        "model_dict"
      ],
      "metadata": {
        "colab": {
          "base_uri": "https://localhost:8080/"
        },
        "id": "2VkntRrOjchZ",
        "outputId": "97b9800d-e671-40e2-e8c9-fd76ab00ef8d"
      },
      "execution_count": null,
      "outputs": [
        {
          "output_type": "execute_result",
          "data": {
            "text/plain": [
              "{'Linear Support Vector Classifier': LinearSVC()}"
            ]
          },
          "metadata": {},
          "execution_count": 20
        }
      ]
    },
    {
      "cell_type": "code",
      "source": [
        "def model_score_df(model_dict):\n",
        "    model_name, ac_score_list, p_score_list, r_score_list, f1_score_list = [], [], [], [], []\n",
        "\n",
        "    X_train.todense();\n",
        "    X_test.todense();\n",
        "    for k, v in model_dict.items():\n",
        "        model_name.append(k)\n",
        "        v.fit(X_train, y_train)\n",
        "        y_pred = v.predict(X_test)\n",
        "        ac_score_list.append(accuracy_score(y_test, y_pred))\n",
        "        p_score_list.append(precision_score(y_test, y_pred, average='macro'))\n",
        "        r_score_list.append(recall_score(y_test, y_pred, average='macro'))\n",
        "        f1_score_list.append(f1_score(y_test, y_pred, average='macro'))\n",
        "        model_comparison_df = pd.DataFrame([model_name, ac_score_list, p_score_list, r_score_list, f1_score_list]).T\n",
        "        model_comparison_df.columns = ['model_name', 'accuracy_score', 'precision_score', 'recall_score', 'f1_score']\n",
        "        model_comparison_df = model_comparison_df.sort_values(by='f1_score', ascending=False)\n",
        "        print(model_comparison_df)\n",
        "\n",
        "    return model_comparison_df"
      ],
      "metadata": {
        "id": "ox6QhjdtkNuV"
      },
      "execution_count": null,
      "outputs": []
    },
    {
      "cell_type": "code",
      "source": [
        "def execute_model(model):\n",
        "    model.fit(X_train, y_train)\n",
        "    y_pred = model.predict(X_test)\n",
        "    print(\"Accuracy   : \", accuracy_score(y_test, y_pred))\n",
        "    print(\"Precision  : \", precision_score(y_test, y_pred, average='macro'))\n",
        "    print(\"Recall     : \", recall_score(y_test, y_pred, average='macro'))\n",
        "    print(\"F1         : \", f1_score(y_test, y_pred, average='macro'))\n",
        "\n",
        "    labels = [\"Validation Error\", \"Database Error\", \"Others\", \"Scripting Error\", \"Framework error\", \"Deployment Error\", \"Server Error\"]\n",
        "\n",
        "\n",
        "    matrix = confusion_matrix(y_test, y_pred, labels = labels)\n",
        "    fig, ax = plt.subplots(figsize=(10,10))\n",
        "    ax = sns.heatmap(matrix, annot=True, fmt='d', cmap = \"Blues\", xticklabels=labels, yticklabels=labels)\n",
        "    ax.set_title(\"Confusion Matrix\", fontsize=18)\n",
        "    ax.set_xlabel(\"Predicted\", fontsize=14)\n",
        "    ax.set_ylabel(\"Actual\", fontsize=14)"
      ],
      "metadata": {
        "id": "B4n0so0WkUOA"
      },
      "execution_count": null,
      "outputs": []
    },
    {
      "cell_type": "code",
      "source": [
        "print('Linear Suuport Vector Classifier: \\n')\n",
        "model = LinearSVC()\n",
        "execute_model(model)"
      ],
      "metadata": {
        "colab": {
          "base_uri": "https://localhost:8080/",
          "height": 867
        },
        "id": "bbMMA45FmvDo",
        "outputId": "d64b49fd-273a-40f1-8acf-840ede04ece0"
      },
      "execution_count": null,
      "outputs": [
        {
          "output_type": "stream",
          "name": "stdout",
          "text": [
            "Linear Suuport Vector Classifier: \n",
            "\n",
            "Accuracy   :  0.9727891156462585\n",
            "Precision  :  0.685\n",
            "Recall     :  0.6330896719374772\n",
            "F1         :  0.6561757537732665\n"
          ]
        },
        {
          "output_type": "stream",
          "name": "stderr",
          "text": [
            "/usr/local/lib/python3.7/dist-packages/sklearn/metrics/_classification.py:1318: UndefinedMetricWarning: Precision is ill-defined and being set to 0.0 in labels with no predicted samples. Use `zero_division` parameter to control this behavior.\n",
            "  _warn_prf(average, modifier, msg_start, len(result))\n"
          ]
        },
        {
          "output_type": "display_data",
          "data": {
            "image/png": "[encoded data removed]",
            "text/plain": [
              "<Figure size 720x720 with 2 Axes>"
            ]
          },
          "metadata": {
            "needs_background": "light"
          }
        }
      ]
    },
    {
      "cell_type": "code",
      "source": [
        "model = LinearSVC(random_state=0, tol=1e-05)\n",
        "model.fit(X_train, y_train)\n",
        "y_pred = model.predict(X_test)\n",
        "print(\"Accuracy   : \", accuracy_score(y_test, y_pred))\n",
        "print(\"Precision  : \", precision_score(y_test, y_pred, average='macro'))\n",
        "print(\"Recall     : \", recall_score(y_test, y_pred, average='macro'))\n",
        "print(\"F1         : \", f1_score(y_test, y_pred, average='macro'))"
      ],
      "metadata": {
        "colab": {
          "base_uri": "https://localhost:8080/"
        },
        "id": "Emh5KWp-tJZQ",
        "outputId": "3e009026-df0b-4442-994d-3ef58d3d75af"
      },
      "execution_count": null,
      "outputs": [
        {
          "output_type": "stream",
          "name": "stdout",
          "text": [
            "Accuracy   :  0.9727891156462585\n",
            "Precision  :  0.685\n",
            "Recall     :  0.6330896719374772\n",
            "F1         :  0.6561757537732665\n"
          ]
        },
        {
          "output_type": "stream",
          "name": "stderr",
          "text": [
            "/usr/local/lib/python3.7/dist-packages/sklearn/metrics/_classification.py:1318: UndefinedMetricWarning: Precision is ill-defined and being set to 0.0 in labels with no predicted samples. Use `zero_division` parameter to control this behavior.\n",
            "  _warn_prf(average, modifier, msg_start, len(result))\n"
          ]
        }
      ]
    }
  ]
}